{
 "cells": [
  {
   "cell_type": "code",
   "execution_count": null,
   "metadata": {},
   "outputs": [],
   "source": [
    "#default_exp core"
   ]
  },
  {
   "cell_type": "code",
   "execution_count": null,
   "metadata": {},
   "outputs": [],
   "source": [
    "#hide\n",
    "%load_ext autoreload\n",
    "%autoreload 2\n",
    "%matplotlib inline"
   ]
  },
  {
   "cell_type": "markdown",
   "metadata": {},
   "source": [
    "# Core\n",
    "\n",
    "> API details."
   ]
  },
  {
   "cell_type": "code",
   "execution_count": null,
   "metadata": {},
   "outputs": [],
   "source": [
    "#hide\n",
    "from nbdev.showdoc import *"
   ]
  },
  {
   "cell_type": "code",
   "execution_count": null,
   "metadata": {},
   "outputs": [],
   "source": [
    "#export \n",
    "import ipywidgets as widgets\n",
    "from fastai2.vision.all import*\n",
    "#from visualtemp.dashboard_two import ds_choice\n",
    "from fast_gui.dashboard_two import ds_choice\n",
    "from fast_gui.augmentation_dashboard import aug_dash"
   ]
  },
  {
   "cell_type": "code",
   "execution_count": null,
   "metadata": {},
   "outputs": [],
   "source": [
    "#export\n",
    "def repeat_one(source, n=128):\n",
    "    \"\"\"Single image helper for displaying batch\"\"\"\n",
    "    return [get_image_files(ds_choice.source)[9]]*n"
   ]
  },
  {
   "cell_type": "code",
   "execution_count": null,
   "metadata": {},
   "outputs": [],
   "source": [
    "#export\n",
    "def code_test():\n",
    "    \"\"\"Helpers\"\"\"\n",
    "    db_button2 = widgets.Button(description='DataBlock')\n",
    "    stats_info()\n",
    "    method = ResizeMethod.Pad\n",
    "\n",
    "    item_size = int(aug_dash.imgsiz.value)\n",
    "    final_size = int(aug_dash.imgbth.value)\n",
    "\n",
    "    if aug_dash.bi.value == 'Single':\n",
    "        code_test.items = repeat_one(ds_choice.source)\n",
    "    if aug_dash.bi.value == 'Multi':\n",
    "        code_test.items = get_image_files(ds_choice.source)\n",
    "    if aug_dash.aug.value == 'No':\n",
    "        print(BOLD + BLUE + \"working.....: \" + RESET + RED + 'No Augmentations\\n')\n",
    "        print(BOLD + BLUE + \"Multi/Single Image: \" + RESET + RED + str(aug_dash.bi.value))\n",
    "        print(BOLD + BLUE + \"Padding: \" + RESET + RED + str(aug_dash.pad.value))\n",
    "        print(BOLD + BLUE + \"Normalization: \" + RESET + RED + str(stats_info.stats))\n",
    "        print(BOLD + BLUE + \"Batch Size: \" + RESET + RED + (aug_dash.bs.value))\n",
    "        print(BOLD + BLUE + \"Item Size: \" + RESET + RED + str(item_size))\n",
    "        print(BOLD + BLUE + \"Final Size: \" + RESET + RED + str(final_size))\n",
    "        \n",
    "        xtra_tfms = [RandomErasing(p=aug.b_pval.value, max_count=aug.b_max.value, min_aspect=aug.b_asp.value, sl=aug.b_len.value, sh=aug.b_ht.value), #p= probabilty\n",
    "                 Brightness(max_lighting=aug.b4_max.value, p=aug.b4_pval.value, draw=None, batch=None),\n",
    "                 Rotate(max_deg=aug.b2_max.value, p=aug.b2_pval.value, draw=None, size=None, mode='bilinear', pad_mode=aug_dash.pad.value),\n",
    "                 Warp(magnitude=aug.b3_mag.value,p=aug.b3_pval.value,draw_x=None,draw_y=None,size=None,mode='bilinear',pad_mode=aug_dash.pad.value,batch=False,),\n",
    "                 Contrast(max_lighting=aug.b1_max.value, p=aug.b1_pval.value, draw=aug.b1_draw.value, batch=True), #draw = 1 is normal batch=batch tfms or not\n",
    "                 Dihedral(p=aug.b5_pval.value, draw=aug.b5_draw.value, size=None, mode='bilinear', pad_mode=PadMode.Reflection, batch=False),\n",
    "                 Zoom(max_zoom=aug.b6_zoom.value, p=aug.b6_pval.value, draw=None, draw_x=None, draw_y=None, size=None, mode='bilinear',pad_mode=aug_dash.pad.value, batch=False)]\n",
    "                     \n",
    "        after_b = None             \n",
    "        tfms = [[PILImage.create], [parent_label, Categorize]]\n",
    "        item_tfms = [ToTensor(), Resize(item_size)]\n",
    "        dsets = Datasets(code_test.items, tfms=tfms)\n",
    "        dls = dsets.dataloaders(after_item=item_tfms, after_batch=after_b, bs=int(aug_dash.bs.value), num_workers=0)\n",
    "\n",
    "        dls.show_batch(max_n=12, nrows=2, ncols=6)\n",
    "        \n",
    "    if aug_dash.aug.value == 'Yes':\n",
    "        print(BOLD + BLUE + \"working.....: \" + RESET + RED + 'Augmentations\\n')\n",
    "        print(BOLD + BLUE + \"RandomErasing: \" + RESET + RED + 'max_count=' + str(aug.b_max.value) + ' p=' + str(aug.b_pval.value))\n",
    "        print(BOLD + BLUE + \"Contrast: \" + RESET + RED + 'max_light=' + str(aug.b1_max.value) + ' p=' + str(aug.b1_pval.value))\n",
    "        print(BOLD + BLUE + \"Rotate: \" + RESET + RED + 'max_degree=' + str(aug.b2_max.value) + ' p=' + str(aug.b2_pval.value))\n",
    "        print(BOLD + BLUE + \"Warp: \" + RESET + RED + 'magnitude=' + str(aug.b3_mag.value) + ' p=' + str(aug.b3_pval.value))\n",
    "        print(BOLD + BLUE + \"Brightness: \" + RESET + RED + 'max_light=' + str(aug.b4_max.value) + ' p=' + str(aug.b4_pval.value))\n",
    "        print(BOLD + BLUE + \"DihedralFlip: \" + RESET + RED + ' p=' + str(aug.b5_pval.value) + 'draw=' + str(aug.b5_draw.value))\n",
    "        print(BOLD + BLUE + \"Zoom: \" + RESET + RED + 'max_zoom=' + str(aug.b6_zoom.value) + ' p=' + str(aug.b6_pval.value))\n",
    "        print(BOLD + BLUE + \"\\nMulti/Single Image: \" + RESET + RED + str(aug_dash.bi.value))\n",
    "        print(BOLD + BLUE + \"Padding: \" + RESET + RED + str(aug_dash.pad.value))\n",
    "        print(BOLD + BLUE + \"Normalization: \" + RESET + RED + str(stats_info.stats))\n",
    "        print(BOLD + BLUE + \"Batch Size: \" + RESET + RED + (aug_dash.bs.value))\n",
    "        print(BOLD + BLUE + \"Item Size: \" + RESET + RED + str(item_size))\n",
    "        print(BOLD + BLUE + \"Final Size: \" + RESET + RED + str(final_size))\n",
    "\n",
    "        xtra_tfms = [RandomErasing(p=aug.b_pval.value, max_count=aug.b_max.value, min_aspect=aug.b_asp.value, sl=aug.b_len.value, sh=aug.b_ht.value), #p= probabilty\n",
    "                 Brightness(max_lighting=aug.b4_max.value, p=aug.b4_pval.value, draw=None, batch=None),\n",
    "                 Rotate(max_deg=aug.b2_max.value, p=aug.b2_pval.value, draw=None, size=None, mode='bilinear', pad_mode=aug_dash.pad.value),\n",
    "                 Warp(magnitude=aug.b3_mag.value,p=aug.b3_pval.value,draw_x=None,draw_y=None,size=None,mode='bilinear',pad_mode=aug_dash.pad.value,batch=False,),\n",
    "                 Contrast(max_lighting=aug.b1_max.value, p=aug.b1_pval.value, draw=aug.b1_draw.value, batch=True), #draw = 1 is normal batch=batch tfms or not\n",
    "                 Dihedral(p=aug.b5_pval.value, draw=aug.b5_draw.value, size=None, mode='bilinear', pad_mode=PadMode.Reflection, batch=False),\n",
    "                 Zoom(max_zoom=aug.b6_zoom.value, p=aug.b6_pval.value, draw=None, draw_x=None, draw_y=None, size=None, mode='bilinear',pad_mode=aug_dash.pad.value, batch=False)\n",
    "                    ]\n",
    "\n",
    "        after_b = [Resize(final_size), IntToFloatTensor(), *aug_transforms(xtra_tfms=xtra_tfms, pad_mode=aug_dash.pad.value),\n",
    "                   Normalize(stats_info.stats)]\n",
    "\n",
    "    if display_ui.tab.selected_index == 2: #>>> Augmentation tab\n",
    "\n",
    "        tfms = [[PILImage.create], [parent_label, Categorize]]\n",
    "        item_tfms = [ToTensor(), Resize(item_size)]\n",
    "        dsets = Datasets(code_test.items, tfms=tfms)\n",
    "        dls = dsets.dataloaders(after_item=item_tfms, after_batch=after_b, bs=int(aug_dash.bs.value), num_workers=0)\n",
    "\n",
    "        dls.show_batch(max_n=12, nrows=2, ncols=6)\n",
    "\n",
    "    if display_ui.tab.selected_index == 3: #>>> DataBlock tab\n",
    "\n",
    "        items = get_image_files(ds_choice.source/'train')\n",
    "        split_idx = block_ch.spl_val(items)\n",
    "        tfms = [[block_ch.cls], [block_ch.outputb, block_ch.ctg]]\n",
    "        item_tfms = [ToTensor(), Resize(item_size)]\n",
    "        dsets = Datasets(items, tfms=tfms, splits=split_idx)\n",
    "        dls = dsets.dataloaders(after_item=item_tfms, after_batch=after_b, bs=int(aug_dash.bs.value), num_workers=0)\n",
    "\n",
    "        display(db_button2)\n",
    "        db_out = widgets.Output()\n",
    "        display(db_out)\n",
    "        def on_db_out(b):\n",
    "            clear_output()\n",
    "            xb, yb = dls.one_batch()\n",
    "            print(BOLD + BLUE + \"Train: \" + RESET + RED + '(' + str(len(dls.train)) + ', ' + str(len(dls.train_ds)) + ') ' +\n",
    "                 BOLD + BLUE + \"Valid: \"+ RESET + RED + '(' + str(len(dls.valid)) + ', ' + str(len(dls.valid_ds)) + ')')\n",
    "            print(BOLD + BLUE + \"Input Shape: \" + RESET + RED + str(xb.shape))\n",
    "            print(BOLD + BLUE + \"Output Shape: \" + RESET + RED + str(yb.shape) + \" by \" + str(dls.c) + \" classes\")\n",
    "            dls.show_batch(max_n=12, nrows=2, ncols=6)\n",
    "        db_button2.on_click(on_db_out)\n"
   ]
  },
  {
   "cell_type": "code",
   "execution_count": null,
   "metadata": {},
   "outputs": [],
   "source": [
    "#export\n",
    "def stats_info():\n",
    "    \"\"\"Stats helper\"\"\"\n",
    "    if aug_dash.norm.value == 'Imagenet':\n",
    "        stats_info.stats = ([0.485, 0.456, 0.406], [0.229, 0.224, 0.225])\n",
    "        stats_info.code = ('*imagenet_stats')\n",
    "    if aug_dash.norm.value == 'Cifar':\n",
    "        stats_info.stats = ([0.491, 0.482, 0.447], [0.247, 0.243, 0.261])\n",
    "        stats_info.code = ('*cifar_stats')\n",
    "    if aug_dash.norm.value == 'Mnist':\n",
    "        stats_info.stats = ([0.15, 0.15, 0.15], [0.15, 0.15, 0.15])\n",
    "        stats_info.code = ('*mnist_stats')\n",
    "    if aug_dash.norm.value == 'None':\n",
    "        stats_info.stats = ([0., 0., 0.], [0., 0., 0.])\n",
    "        stats_info.code = ('[0., 0., 0.], [0., 0., 0.]')\n",
    "    stats = stats_info.stats"
   ]
  },
  {
   "cell_type": "markdown",
   "metadata": {},
   "source": [
    "## Export"
   ]
  },
  {
   "cell_type": "code",
   "execution_count": null,
   "metadata": {},
   "outputs": [],
   "source": [
    "#hide\n",
    "from nbdev.export import notebook2script\n",
    "notebook2script()"
   ]
  },
  {
   "cell_type": "code",
   "execution_count": null,
   "metadata": {},
   "outputs": [],
   "source": []
  },
  {
   "cell_type": "code",
   "execution_count": null,
   "metadata": {},
   "outputs": [],
   "source": []
  }
 ],
 "metadata": {
  "kernelspec": {
   "display_name": "Python 3",
   "language": "python",
   "name": "python3"
  }
 },
 "nbformat": 4,
 "nbformat_minor": 2
}
