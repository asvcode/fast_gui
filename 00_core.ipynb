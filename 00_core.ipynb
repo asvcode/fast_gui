{
 "cells": [
  {
   "cell_type": "code",
   "execution_count": null,
   "metadata": {},
   "outputs": [],
   "source": [
    "#hide\n",
    "%load_ext autoreload\n",
    "%autoreload 2\n",
    "%matplotlib inline"
   ]
  },
  {
   "cell_type": "markdown",
   "metadata": {},
   "source": [
    "# Visual\n",
    "\n",
    "> API details."
   ]
  },
  {
   "cell_type": "code",
   "execution_count": null,
   "metadata": {},
   "outputs": [],
   "source": [
    "#hide\n",
    "from nbdev.showdoc import *"
   ]
  },
  {
   "cell_type": "code",
   "execution_count": null,
   "metadata": {},
   "outputs": [],
   "source": [
    "#hide\n",
    "from ipywidgets import interact, interactive, fixed, interact_manual, Box, Layout\n",
    "import ipywidgets as widgets\n",
    "import matplotlib"
   ]
  },
  {
   "cell_type": "code",
   "execution_count": null,
   "metadata": {},
   "outputs": [],
   "source": [
    "def dashboard_one():\n",
    "    \"\"\"GUI for first accordion window\"\"\"\n",
    "    #import psutil\n",
    "    import torchvision\n",
    "    try:\n",
    "        import fastai2; fastver = fastai2.__version__\n",
    "    except ImportError:\n",
    "        fastver = 'fastai not found'\n",
    "    try:\n",
    "        import fastprogress; fastprog = fastprogress.__version__\n",
    "    except ImportError:\n",
    "        fastprog = 'fastprogress not found'\n",
    "    try:\n",
    "        import fastpages; fastp = fastpages.__version__\n",
    "    except ImportError:\n",
    "        fastp = 'fastpages not found'\n",
    "    try:\n",
    "        import nbdev; nbd = nbdev.__version__\n",
    "    except ImportError:\n",
    "        nbd = 'nbdev not found'\n",
    "\n",
    "    print (BOLD +  RED + '>> Vision_UI Update: 03/17/2020')\n",
    "    style = {'description_width': 'initial'}"
   ]
  },
  {
   "cell_type": "markdown",
   "metadata": {},
   "source": [
    "## Export"
   ]
  },
  {
   "cell_type": "code",
   "execution_count": null,
   "metadata": {},
   "outputs": [
    {
     "name": "stdout",
     "output_type": "stream",
     "text": [
      "Converted 00_core.ipynb.\n",
      "Converted 99_test.ipynb.\n",
      "Converted index.ipynb.\n"
     ]
    }
   ],
   "source": [
    "#hide\n",
    "from nbdev.export import notebook2script\n",
    "notebook2script()"
   ]
  },
  {
   "cell_type": "code",
   "execution_count": null,
   "metadata": {},
   "outputs": [],
   "source": []
  },
  {
   "cell_type": "code",
   "execution_count": null,
   "metadata": {},
   "outputs": [],
   "source": []
  }
 ],
 "metadata": {
  "kernelspec": {
   "display_name": "Python 3",
   "language": "python",
   "name": "python3"
  }
 },
 "nbformat": 4,
 "nbformat_minor": 2
}
