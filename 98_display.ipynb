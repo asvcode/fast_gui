{
 "cells": [
  {
   "cell_type": "code",
   "execution_count": null,
   "metadata": {},
   "outputs": [],
   "source": [
    "#default_exp display"
   ]
  },
  {
   "cell_type": "code",
   "execution_count": null,
   "metadata": {},
   "outputs": [
    {
     "name": "stdout",
     "output_type": "stream",
     "text": [
      "The autoreload extension is already loaded. To reload it, use:\n",
      "  %reload_ext autoreload\n"
     ]
    }
   ],
   "source": [
    "#hide\n",
    "%load_ext autoreload\n",
    "%autoreload 2"
   ]
  },
  {
   "cell_type": "code",
   "execution_count": null,
   "metadata": {},
   "outputs": [],
   "source": [
    "#export\n",
    "import pandas as pd\n",
    "import numpy as np\n",
    "\n",
    "import ipywidgets as widgets\n",
    "from IPython.display import display,clear_output, Javascript\n",
    "\n",
    "from fast_gui.dashboard_one import *\n",
    "from fast_gui.dashboard_two import *\n",
    "from fast_gui.augmentation_dashboard import *\n",
    "from fast_gui.datablock import *\n",
    "from fast_gui.code import *"
   ]
  },
  {
   "cell_type": "markdown",
   "metadata": {},
   "source": [
    "# Display\n",
    "\n",
    "> Display"
   ]
  },
  {
   "cell_type": "code",
   "execution_count": null,
   "metadata": {},
   "outputs": [],
   "source": [
    "#export\n",
    "def display_ui():\n",
    "    \"\"\" Display function for viewing tabs\"\"\"\n",
    "    button = widgets.Button(description=\"Train\")\n",
    "    button_b = widgets.Button(description=\"Metrics\")\n",
    "    button_m = widgets.Button(description='Model')\n",
    "    button_l = widgets.Button(description='LR')\n",
    "\n",
    "    test_button = widgets.Button(description='Batch')\n",
    "    test2_button = widgets.Button(description='Test2')\n",
    "\n",
    "    out1a = widgets.Output()\n",
    "    out1 = widgets.Output()\n",
    "    out2 = widgets.Output()\n",
    "    out3 = widgets.Output()\n",
    "    out4 = widgets.Output()\n",
    "    out5 = widgets.Output()\n",
    "\n",
    "    data1a = pd.DataFrame(np.random.normal(size = 50))\n",
    "    data1 = pd.DataFrame(np.random.normal(size = 100))\n",
    "    data2 = pd.DataFrame(np.random.normal(size = 150))\n",
    "    data3 = pd.DataFrame(np.random.normal(size = 200))\n",
    "    data4 = pd.DataFrame(np.random.normal(size = 250))\n",
    "    data5 = pd.DataFrame(np.random.normal(size = 300))\n",
    "\n",
    "    with out1a: #info\n",
    "        clear_output()\n",
    "        dashboard_one()\n",
    "\n",
    "    with out1: #data\n",
    "        clear_output()\n",
    "        dashboard_two()\n",
    "\n",
    "    with out2: #augmentation\n",
    "        clear_output()\n",
    "        aug_dash()\n",
    "\n",
    "    with out3: #Block\n",
    "        clear_output()\n",
    "        ds_3()\n",
    "\n",
    "    with out4: #code\n",
    "        clear_output()\n",
    "        write_code()\n",
    "\n",
    "    display_ui.tab = widgets.Tab(children = [out1a, out1, out2, out3, out4])\n",
    "    display_ui.tab.set_title(0, 'Info')\n",
    "    display_ui.tab.set_title(1, 'Data')\n",
    "    display_ui.tab.set_title(2, 'Augmentation')\n",
    "    display_ui.tab.set_title(3, 'DataBlock')\n",
    "    display_ui.tab.set_title(4, 'Code')\n",
    "    display(display_ui.tab)"
   ]
  },
  {
   "cell_type": "code",
   "execution_count": null,
   "metadata": {},
   "outputs": [
    {
     "name": "stdout",
     "output_type": "stream",
     "text": [
      "Converted 00_core.ipynb.\n",
      "Converted 01_dashboard_one.ipynb.\n",
      "Converted 02_dashboard_two.ipynb.\n",
      "Converted 03_aug_dash.ipynb.\n",
      "Converted 97_display_test.ipynb.\n",
      "Converted 98_display.ipynb.\n",
      "Converted 99_test.ipynb.\n",
      "Converted index.ipynb.\n"
     ]
    }
   ],
   "source": [
    "#hide\n",
    "from nbdev.export import notebook2script\n",
    "notebook2script()"
   ]
  },
  {
   "cell_type": "code",
   "execution_count": null,
   "metadata": {},
   "outputs": [],
   "source": []
  }
 ],
 "metadata": {
  "kernelspec": {
   "display_name": "Python 3",
   "language": "python",
   "name": "python3"
  }
 },
 "nbformat": 4,
 "nbformat_minor": 2
}
