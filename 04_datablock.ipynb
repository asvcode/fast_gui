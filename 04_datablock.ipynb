{
 "cells": [
  {
   "cell_type": "code",
   "execution_count": null,
   "metadata": {},
   "outputs": [],
   "source": [
    "#default_exp datablock"
   ]
  },
  {
   "cell_type": "code",
   "execution_count": null,
   "metadata": {},
   "outputs": [],
   "source": [
    "%load_ext autoreload\n",
    "%autoreload 2"
   ]
  },
  {
   "cell_type": "code",
   "execution_count": null,
   "metadata": {},
   "outputs": [],
   "source": [
    "#hide\n",
    "from nbdev.showdoc import *"
   ]
  },
  {
   "cell_type": "code",
   "execution_count": null,
   "metadata": {},
   "outputs": [],
   "source": [
    "#export\n",
    "import ipywidgets as widgets\n",
    "from ipywidgets import Layout, Box\n",
    "from IPython.display import clear_output\n",
    "#from fast_gui.augmentation_dashboard import code_test, stats_info\n",
    "from fast_gui.core import stats_info\n",
    "from fast_gui.core import code_test\n",
    "\n",
    "\n",
    "from fastai2.vision.core import PILImage, PILImageBW, Categorize, MultiCategorize, RandomSplitter, GrandparentSplitter, parent_label"
   ]
  },
  {
   "cell_type": "markdown",
   "metadata": {},
   "source": [
    "# Datablock\n",
    "\n",
    "> API details."
   ]
  },
  {
   "cell_type": "code",
   "execution_count": null,
   "metadata": {},
   "outputs": [],
   "source": [
    "#export\n",
    "def ds_3():\n",
    "    \"\"\"GUI for 3rd Accordion window\"\"\"\n",
    "    db_button = widgets.Button(description='Confirm')\n",
    "    ds_3.d1 = widgets.ToggleButtons(value=None, options=['PILImage', 'PILImageBW'], description='', button_style='info')\n",
    "    ds_3.e1 = widgets.ToggleButtons(value=None, options=['CategoryBlock', 'MultiCategoryBlock'], description='', button_style='warning')\n",
    "    ds_3.g = widgets.ToggleButton(description='parent_label', button_style='danger', value=False)\n",
    "    ds_3.s = widgets.ToggleButtons(value=None, options=['RandomSplitter', 'GrandparentSplitter'],\n",
    "                                   description='', button_style='success')\n",
    "    form_items = [ds_3.d1, ds_3.e1, ds_3.s ,ds_3.g]\n",
    "\n",
    "    form_t = Layout(display='flex',\n",
    "                    flex_flow='row',\n",
    "                    align_items='stretch',\n",
    "                    border='solid 1px',\n",
    "                    width='100%')\n",
    "    form = Box(children=form_items, layout=form_t)\n",
    "    display(form)\n",
    "    display(db_button)\n",
    "    db_out = widgets.Output()\n",
    "    display(db_out)\n",
    "    def on_db_click(b):\n",
    "        with db_out:\n",
    "            clear_output()\n",
    "            block_ch()\n",
    "            code_test()\n",
    "    db_button.on_click(on_db_click)\n"
   ]
  },
  {
   "cell_type": "code",
   "execution_count": null,
   "metadata": {},
   "outputs": [],
   "source": [
    "#export\n",
    "def block_ch():\n",
    "    \"\"\"Helper for configuring mid-level datablock\"\"\"\n",
    "    if ds_3.d1.value == 'PILImage':\n",
    "        block_ch.cls = PILImage.create\n",
    "        block_ch.code = 'PILImage.create'\n",
    "    if ds_3.d1.value == 'PILImageBW':\n",
    "        block_ch.cls = PILImageBW.create; block_ch.code = 'PILImageBW.create'\n",
    "    if ds_3.e1.value == 'CategoryBlock':\n",
    "        block_ch.ctg = Categorize\n",
    "        block_ch.ctg_code = 'Categorize'\n",
    "    else:\n",
    "        block_ch.ctg = MultiCategorize\n",
    "        block_ch.ctg_code = 'MultiCategorize'\n",
    "    if ds_3.g.value == True:\n",
    "        block_ch.outputb = parent_label\n",
    "        block_ch.outputb_code = 'parent_label'\n",
    "    else:\n",
    "        block_ch.outputb = None\n",
    "    if ds_3.s.value == 'RandomSplitter':\n",
    "        block_ch.spl_val = RandomSplitter()\n",
    "        block_ch.spl_val_code = 'RandomSplitter()'\n",
    "    if ds_3.s.value == 'GrandparentSplitter':\n",
    "        block_ch.spl_val = GrandparentSplitter()\n",
    "        block_ch.spl_val_code = 'GrandparentSplitter()'\n",
    "\n",
    "    print(block_ch.cls)"
   ]
  },
  {
   "cell_type": "code",
   "execution_count": null,
   "metadata": {},
   "outputs": [],
   "source": [
    "#hide\n",
    "from nbdev.export import notebook2script\n",
    "notebook2script()"
   ]
  },
  {
   "cell_type": "code",
   "execution_count": null,
   "metadata": {},
   "outputs": [],
   "source": []
  }
 ],
 "metadata": {
  "kernelspec": {
   "display_name": "Python 3",
   "language": "python",
   "name": "python3"
  }
 },
 "nbformat": 4,
 "nbformat_minor": 2
}
