{
 "cells": [
  {
   "cell_type": "code",
   "execution_count": null,
   "metadata": {},
   "outputs": [],
   "source": [
    "#default_exp datablock"
   ]
  },
  {
   "cell_type": "code",
   "execution_count": null,
   "metadata": {},
   "outputs": [],
   "source": [
    "%load_ext autoreload\n",
    "%autoreload 2"
   ]
  },
  {
   "cell_type": "code",
   "execution_count": null,
   "metadata": {},
   "outputs": [],
   "source": [
    "#hide\n",
    "from nbdev.showdoc import *"
   ]
  },
  {
   "cell_type": "markdown",
   "metadata": {},
   "source": [
    "# Datablock\n",
    "\n",
    "> API details."
   ]
  },
  {
   "cell_type": "code",
   "execution_count": null,
   "metadata": {},
   "outputs": [],
   "source": [
    "#export\n",
    "def ds_3():\n",
    "    \"\"\"GUI for 3rd Accordion window\"\"\"\n",
    "    db_button = widgets.Button(description='Confirm')\n",
    "    ds_3.d1 = widgets.ToggleButtons(value=None, options=['PILImage', 'PILImageBW'], description='', button_style='info')\n",
    "    ds_3.e1 = widgets.ToggleButtons(value=None, options=['CategoryBlock', 'MultiCategoryBlock'], description='', button_style='warning')\n",
    "    ds_3.g = widgets.ToggleButton(description='parent_label', button_style='danger', value=False)\n",
    "    ds_3.s = widgets.ToggleButtons(value=None, options=['RandomSplitter', 'GrandparentSplitter'],\n",
    "                                   description='', button_style='success')\n",
    "    form_items = [ds_3.d1, ds_3.e1, ds_3.s ,ds_3.g]\n",
    "\n",
    "    form_t = Layout(display='flex',\n",
    "                    flex_flow='row',\n",
    "                    align_items='stretch',\n",
    "                    border='solid 1px',\n",
    "                    width='100%')\n",
    "    form = Box(children=form_items, layout=form_t)\n",
    "    display(form)\n",
    "    display(db_button)\n",
    "    db_out = widgets.Output()\n",
    "    display(db_out)\n",
    "    def on_db_click(b):\n",
    "        with db_out:\n",
    "            clear_output()\n",
    "            block_ch()\n",
    "            code_test()\n",
    "    db_button.on_click(on_db_click)\n"
   ]
  },
  {
   "cell_type": "code",
   "execution_count": null,
   "metadata": {},
   "outputs": [
    {
     "name": "stdout",
     "output_type": "stream",
     "text": [
      "Converted 00_core.ipynb.\n",
      "Converted 01_dashboard_one.ipynb.\n",
      "Converted 02_dashboard_two.ipynb.\n",
      "Converted 03_augmentation_dashboard.ipynb.\n",
      "Converted 04_datablock.ipynb.\n",
      "Converted 97_display_test.ipynb.\n",
      "Converted 98_display.ipynb.\n",
      "Converted 99_test.ipynb.\n",
      "Converted index.ipynb.\n"
     ]
    }
   ],
   "source": [
    "#hide\n",
    "from nbdev.export import notebook2script\n",
    "notebook2script()"
   ]
  },
  {
   "cell_type": "code",
   "execution_count": null,
   "metadata": {},
   "outputs": [],
   "source": []
  }
 ],
 "metadata": {
  "kernelspec": {
   "display_name": "Python 3",
   "language": "python",
   "name": "python3"
  }
 },
 "nbformat": 4,
 "nbformat_minor": 2
}
