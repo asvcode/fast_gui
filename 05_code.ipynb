{
 "cells": [
  {
   "cell_type": "code",
   "execution_count": null,
   "metadata": {},
   "outputs": [],
   "source": [
    "#default_exp code"
   ]
  },
  {
   "cell_type": "code",
   "execution_count": null,
   "metadata": {},
   "outputs": [],
   "source": [
    "%load_ext autoreload\n",
    "%autoreload 2"
   ]
  },
  {
   "cell_type": "code",
   "execution_count": null,
   "metadata": {},
   "outputs": [],
   "source": [
    "#hide\n",
    "from nbdev.showdoc import *"
   ]
  },
  {
   "cell_type": "code",
   "execution_count": null,
   "metadata": {},
   "outputs": [],
   "source": [
    "#export\n",
    "RED = '\\033[31m'\n",
    "BLUE = '\\033[94m'\n",
    "GREEN = '\\033[92m'\n",
    "BOLD   = '\\033[1m'\n",
    "ITALIC = '\\033[3m'\n",
    "RESET  = '\\033[0m'\n",
    "\n",
    "import ipywidgets as widgets\n",
    "from IPython.display import clear_output\n",
    "\n",
    "from fast_gui.dashboard_two import dashboard_two\n",
    "from fast_gui.datablock import block_ch\n",
    "from fast_gui.augmentation_dashboard import aug_dash, aug\n",
    "from fast_gui.augmentation_dashboard import stats_info"
   ]
  },
  {
   "cell_type": "markdown",
   "metadata": {},
   "source": [
    "# Code\n",
    "\n",
    "> Code writing tab of GUI"
   ]
  },
  {
   "cell_type": "code",
   "execution_count": null,
   "metadata": {},
   "outputs": [],
   "source": [
    "#export\n",
    "def write_code():\n",
    "    \"\"\"Helper for writing code\"\"\"\n",
    "    write_button = widgets.Button(description='Code', button_style = 'success')\n",
    "    display(write_button)\n",
    "    write_out = widgets.Output()\n",
    "    display(write_out)\n",
    "    def on_write_button(b):\n",
    "        with write_out:\n",
    "            clear_output()\n",
    "            print(RED + BOLD + '\"\"\"import libraries\"\"\"' + RESET)\n",
    "            print(GREEN + BOLD + 'from' + RESET + ' fastai2.vision.all ' + GREEN + BOLD + 'import*' + RESET)\n",
    "            print(RED + BOLD + '\\n\"\"\"get data source and image files from source\"\"\"' + RESET)\n",
    "            print('source = untar_data(URLs.' + str(dashboard_two.datas.value) + ')')\n",
    "            print('items = get_image_files(source)')\n",
    "            print(RED + BOLD + '\\n\"\"\"get item, split and batch transforms\"\"\"' + RESET)\n",
    "            print('tfms = [[' + str(block_ch.code) + ']' + ' ,' + '[' + str(block_ch.outputb_code) + ', '\n",
    "                  +  str(block_ch.ctg_code) + ']]')\n",
    "            print('item_tfms = [ToTensor(), Resize(' + GREEN + str(aug_dash.imgsiz.value) + RESET + ')]')\n",
    "            print('split_idx = ' + str(block_ch.spl_val_code) + '(items)')\n",
    "            print(RED + BOLD + '\\n\"\"\"image augmentations\"\"\"' + RESET)\n",
    "            if aug_dash.aug.value == 'No':\n",
    "                print('xtra_tfms = '+ GREEN + BOLD + 'None' + RESET)\n",
    "            if aug_dash.aug.value == 'Yes':\n",
    "                print(RESET + 'xtra_tfms = [RandomErasing(p=' + GREEN + str(aug.b_pval.value) + RESET + ', max_count=' +\n",
    "                     GREEN + str(aug.b_max.value) + RESET + ', min_aspect=' + GREEN + str(aug.b_asp.value) + RESET + ', sl=' +\n",
    "                     GREEN + str(aug.b_len.value) + RESET +  ', sh=' + RESET + GREEN + str(aug.b_ht.value) + RESET + '),')\n",
    "                print(RESET + '             Brightness(max_lighting=' + GREEN + str(aug.b4_max.value) +  RESET  + ', p=' + GREEN +\n",
    "                      str(aug.b4_pval.value) + RESET + ', draw=' + GREEN + BOLD + 'None' + RESET + ', batch=' + GREEN + BOLD + 'None' +\n",
    "                      RESET + ')')\n",
    "                print(RESET + '             Rotate(max_deg=' + GREEN + str(aug.b2_max.value) +  RESET  + ', p=' + GREEN +\n",
    "                      str(aug.b2_pval.value) + RESET + ', draw=' + GREEN + BOLD + 'None' + RESET + ', size=' + GREEN + BOLD + 'None' +\n",
    "                      RESET + ', mode=' + RED + \"'bilinear'\" + RESET + ', pad_mode=' + RED + str(aug_dash.pad.value) + RESET + ')')\n",
    "                print(RESET + '             Warp(magnitude=' + GREEN + str(aug.b3_mag.value) +  RESET  + ', p=' + GREEN +\n",
    "                      str(aug.b3_pval.value) + RESET + ', draw_x=' + GREEN + BOLD + 'None' + RESET + ', draw_y=' + GREEN + BOLD +\n",
    "                      'None' +  RESET + ', size=' + GREEN + BOLD + 'None' + RESET + ', mode=' + RED + \"'bilinear'\" + RESET + ', pad_mode=' +\n",
    "                      RED + str(aug_dash.pad.value) + RESET + ', batch=' + GREEN + BOLD + 'False' + RESET + ')')\n",
    "                print(RESET + '             Contrast(max_lighting=' + GREEN + str(aug.b1_max.value) +  RESET  + ', p=' + GREEN +\n",
    "                      str(aug.b1_pval.value) + RESET + ', draw=' + GREEN + str(aug.b1_draw.value) + RESET + ', batch=' + GREEN + BOLD +\n",
    "                      'True' + RESET + ')')\n",
    "                print(RESET + '             Dihedral(p=' + GREEN + str(aug.b5_pval.value) +  RESET  + ', draw' + GREEN +\n",
    "                      str(aug.b5_draw.value) + RESET + ', size=' + GREEN + BOLD + 'None' + RESET + ', mode=' + RED + \"'bilinear'\" + RESET +\n",
    "                      ', pad_mode=' + RED + str(aug_dash.pad.value) + RESET + ', batch=' + GREEN + BOLD + 'False' + RESET + ')')\n",
    "                print(RESET + '             Zoom(max_zoom=' + GREEN + str(aug.b6_zoom.value) +  RESET  + ', p=' + GREEN +\n",
    "                      str(aug.b6_pval.value) + RESET + ', draw=' + GREEN + BOLD + 'None' + RESET + ', draw_x=' + GREEN + BOLD + 'None' + RESET +\n",
    "                      ', draw_y=' + GREEN + BOLD + 'None' +  RESET + ', size=' + GREEN + BOLD + 'None' + RESET + ', mode=' + RED + \"'bilinear'\" +\n",
    "                      RESET + ', pad_mode=' + RED + str(aug_dash.pad.value) + RESET + ', batch=' + GREEN + BOLD + 'False' + RESET + ')]')\n",
    "\n",
    "            print('\\nafter_b = [Resize(' + GREEN + str(aug_dash.imgbth.value) + RESET + '), IntToFloatTensor(), ' + '\\n          ' + \"*aug_transforms(xtra_tfms=xtra_tfms, pad_mode=\"\n",
    "                  + RED + \"'\" + str(aug_dash.pad.value) + \"'\" + RESET + '),' + ' Normalize.from_stats(' + GREEN + str(stats_info.code) + RESET + ')]')\n",
    "\n",
    "            print('\\ndsets = Datasets(items, tfms=tfms, splits=split_idx)')\n",
    "            print('dls = dsets.dataloaders(after_item=item_tfms, after_batch=after_b, bs=' + GREEN + (aug_dash.bs.value) + RESET +\n",
    "                  ', num_workers=' + GREEN + '0' + RESET + ')')\n",
    "\n",
    "\n",
    "            print(RED + BOLD + '\\n\"\"\"Check training and valid shapes\"\"\"' + RESET)\n",
    "            print('xb, yb = dls.one_batch()')\n",
    "            print(RESET + 'dls.train' + RESET + RED + BOLD + ' #train')\n",
    "            print(RESET + 'dls.train_ds' + RESET + RED + BOLD + '#train_ds')\n",
    "            print(RESET + 'dls.valid' + RESET + RED + BOLD + ' #valid')\n",
    "            print(RESET + 'dls.valid_ds' + RESET + RED + BOLD + ' #valid_ds')\n",
    "\n",
    "            print(RESET + RED + BOLD + '\\n\"\"\"show batch\"\"\"' + RESET)\n",
    "            print('dls.show_batch(max_n=' + GREEN + '12' + RESET + ', rows=' + GREEN + '2' + RESET + ', cols=' +\n",
    "                  GREEN  + '6' + RESET + ')')\n",
    "            print(RESET + RED + BOLD + '\\n\"\"\"train\"\"\"' + RESET)\n",
    "            print('arch = xresnet50(pretrained=' + GREEN + BOLD + 'False' + RESET + ')')\n",
    "            print('learn = Learner(dls, model=arch, loss_function=LabelSmoothingCrossEntropy(),' +\n",
    "                 '\\n                metrics=[top_k_accuracy, accuracy])')\n",
    "            print(RESET + 'learn.fit_one_cycle(' + GREEN + '1' + RESET + ', ' + GREEN + '1e-2' + RESET + ')')\n",
    "            print(RESET + RED + BOLD + '\\n\"\"\"interpretations\"\"\"' + RESET)\n",
    "            print('interp = ClassificationInterpretation.from_learner(learn)')\n",
    "            print('losses, idxs = interp.top_losses()')\n",
    "            print(GREEN + 'len' + RESET + '(dls.valid_ds)' + RESET + '==' + GREEN + 'len' + RESET + '(losses)==' +\n",
    "                 GREEN + 'len' + RESET + '(idxs)')\n",
    "            print(RESET + RED + BOLD + '\\n\"\"\"confusion matrix\"\"\"' + RESET)\n",
    "            print('interp.plot_confusion_matrix(figsize=(' + GREEN + '7' + RESET + ',' + GREEN + '7' + RESET + '))')\n",
    "    write_button.on_click(on_write_button)"
   ]
  },
  {
   "cell_type": "code",
   "execution_count": null,
   "metadata": {},
   "outputs": [
    {
     "name": "stdout",
     "output_type": "stream",
     "text": [
      "Converted 00_core.ipynb.\n",
      "Converted 01_dashboard_one.ipynb.\n",
      "Converted 02_dashboard_two.ipynb.\n",
      "Converted 03_augmentation_dashboard.ipynb.\n",
      "Converted 04_datablock.ipynb.\n",
      "Converted 05_code.ipynb.\n",
      "Converted 97_display_test.ipynb.\n",
      "Converted 98_display.ipynb.\n",
      "Converted 99_test.ipynb.\n",
      "Converted index.ipynb.\n"
     ]
    }
   ],
   "source": [
    "#hide\n",
    "from nbdev.export import notebook2script\n",
    "notebook2script()"
   ]
  },
  {
   "cell_type": "code",
   "execution_count": null,
   "metadata": {},
   "outputs": [],
   "source": []
  }
 ],
 "metadata": {
  "kernelspec": {
   "display_name": "Python 3",
   "language": "python",
   "name": "python3"
  }
 },
 "nbformat": 4,
 "nbformat_minor": 2
}
