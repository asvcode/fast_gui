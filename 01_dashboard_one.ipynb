{
 "cells": [
  {
   "cell_type": "code",
   "execution_count": null,
   "metadata": {},
   "outputs": [],
   "source": [
    "#default_exp dashboard_one"
   ]
  },
  {
   "cell_type": "code",
   "execution_count": null,
   "metadata": {},
   "outputs": [],
   "source": [
    "#hide\n",
    "%load_ext autoreload\n",
    "%autoreload 2\n",
    "%matplotlib inline"
   ]
  },
  {
   "cell_type": "code",
   "execution_count": null,
   "metadata": {},
   "outputs": [],
   "source": [
    "#export\n",
    "RED = '\\033[31m'\n",
    "BLUE = '\\033[94m'\n",
    "GREEN = '\\033[92m'\n",
    "BOLD   = '\\033[1m'\n",
    "ITALIC = '\\033[3m'\n",
    "RESET  = '\\033[0m'\n",
    "\n",
    "import ipywidgets as widgets\n",
    "import torchvision; import torch\n",
    "\n",
    "from IPython.display import display,clear_output, Javascript\n",
    "import webbrowser"
   ]
  },
  {
   "cell_type": "markdown",
   "metadata": {},
   "source": [
    "# Dashboard_one\n",
    "\n",
    "> Info tab of GUI"
   ]
  },
  {
   "cell_type": "code",
   "execution_count": null,
   "metadata": {},
   "outputs": [],
   "source": [
    "#export\n",
    "def dashboard_one():\n",
    "    \"\"\"GUI for Info tab\"\"\"\n",
    "    try:\n",
    "        import fastai2; fastver = fastai2.__version__\n",
    "    except ImportError:\n",
    "        fastver = 'fastai not found'\n",
    "    try:\n",
    "        import fastprogress; fastprog = fastprogress.__version__\n",
    "    except ImportError:\n",
    "        fastprog = 'fastprogress not found'\n",
    "    try:\n",
    "        import fastpages; fastp = fastpages.__version__\n",
    "    except ImportError:\n",
    "        fastp = 'fastpages not found'\n",
    "    try:\n",
    "        import nbdev; nbd = nbdev.__version__\n",
    "    except ImportError:\n",
    "        nbd = 'nbdev not found'\n",
    "\n",
    "    print (BOLD +  RED + '>> Vision_UI Update: 05/30/2020')\n",
    "    style = {'description_width': 'initial'}\n",
    "    \n",
    "    button = widgets.Button(description='System', button_style='success')\n",
    "    ex_button = widgets.Button(description='Explore', button_style='success')\n",
    "    display(button)\n",
    "    \n",
    "    out = widgets.Output()\n",
    "    display(out)\n",
    "    \n",
    "    def on_button_clicked_info(b):\n",
    "        with out:\n",
    "            clear_output()\n",
    "            print(BOLD + BLUE + \"fastai2 Version: \" + RESET + ITALIC + str(fastver))\n",
    "            print(BOLD + BLUE + \"nbdev Version: \" + RESET + ITALIC + str(nbd))\n",
    "            print(BOLD + BLUE + \"fastprogress Version: \" + RESET + ITALIC + str(fastprog))\n",
    "            print(BOLD + BLUE + \"fastpages Version: \" + RESET + ITALIC + str(fastp) + '\\n')\n",
    "            print(BOLD + BLUE + \"torchvision: \" + RESET + ITALIC + str(torchvision.__version__))\n",
    "            print(BOLD + BLUE + \"torch version: \" + RESET + ITALIC + str(torch.__version__))\n",
    "            print(BOLD + BLUE + \"\\nCuda: \" + RESET + ITALIC + str(torch.cuda.is_available()))\n",
    "            print(BOLD + BLUE + \"cuda Version: \" + RESET + ITALIC + str(torch.version.cuda))\n",
    "            print(BOLD + BLUE + \"GPU: \" + RESET + ITALIC + str(torch.cuda.get_device_name(0)))\n",
    "    button.on_click(on_button_clicked_info)\n",
    "    \n",
    "    print ('>> Resources')\n",
    "    button_two = widgets.Button(description='Fastai Docs', button_style='info')\n",
    "    button_three = widgets.Button(description='Fastai Forums', button_style='info')\n",
    "    button_four = widgets.Button(description='Vision_UI github', button_style='info')\n",
    "\n",
    "    but_two = widgets.HBox([button_two, button_three, button_four])\n",
    "    display(but_two)\n",
    "\n",
    "    def on_doc_info(b):\n",
    "        webbrowser.open('https://dev.fast.ai/')\n",
    "    button_two.on_click(on_doc_info)\n",
    "\n",
    "    def on_forum(b):\n",
    "        webbrowser.open('https://forums.fast.ai/')\n",
    "    button_three.on_click(on_forum)\n",
    "\n",
    "    def vision_utube(b):\n",
    "            webbrowser.open('https://github.com/asvcode/Vision_UI')\n",
    "    button_four.on_click(vision_utube)"
   ]
  },
  {
   "cell_type": "code",
   "execution_count": null,
   "metadata": {},
   "outputs": [
    {
     "name": "stdout",
     "output_type": "stream",
     "text": [
      "Converted 00_core.ipynb.\n",
      "Converted 01_dashboard_one.ipynb.\n",
      "Converted 97_display_test.ipynb.\n",
      "Converted 98_display.ipynb.\n",
      "Converted 99_test.ipynb.\n",
      "Converted index.ipynb.\n"
     ]
    }
   ],
   "source": [
    "#hide\n",
    "from nbdev.export import notebook2script\n",
    "notebook2script()"
   ]
  },
  {
   "cell_type": "code",
   "execution_count": null,
   "metadata": {},
   "outputs": [],
   "source": []
  }
 ],
 "metadata": {
  "kernelspec": {
   "display_name": "Python 3",
   "language": "python",
   "name": "python3"
  }
 },
 "nbformat": 4,
 "nbformat_minor": 2
}
