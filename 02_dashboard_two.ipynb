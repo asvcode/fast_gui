{
 "cells": [
  {
   "cell_type": "code",
   "execution_count": null,
   "metadata": {},
   "outputs": [],
   "source": [
    "#default_exp dashboard_two"
   ]
  },
  {
   "cell_type": "code",
   "execution_count": null,
   "metadata": {},
   "outputs": [],
   "source": [
    "#hide\n",
    "from nbdev.showdoc import *"
   ]
  },
  {
   "cell_type": "code",
   "execution_count": null,
   "metadata": {},
   "outputs": [],
   "source": [
    "#export\n",
    "RED = '\\033[31m'\n",
    "BLUE = '\\033[94m'\n",
    "GREEN = '\\033[92m'\n",
    "BOLD   = '\\033[1m'\n",
    "ITALIC = '\\033[3m'\n",
    "RESET  = '\\033[0m'\n",
    "\n",
    "style = {'description_width': 'initial'}\n",
    "\n",
    "import ipywidgets as widgets\n",
    "from IPython.display import clear_output\n",
    "from fastai2.vision.all import*"
   ]
  },
  {
   "cell_type": "markdown",
   "metadata": {},
   "source": [
    "# Dashboard_two\n",
    "\n",
    "> Data tab of GUI"
   ]
  },
  {
   "cell_type": "code",
   "execution_count": null,
   "metadata": {},
   "outputs": [],
   "source": [
    "#export\n",
    "def dashboard_two():\n",
    "    \"\"\"GUI for Data tab\"\"\"\n",
    "    dashboard_two.datas = widgets.ToggleButtons(\n",
    "        options=['PETS', 'CIFAR', 'IMAGENETTE_160', 'IMAGEWOOF_160', 'MNIST_TINY'],\n",
    "        description='Choose',\n",
    "        value=None,\n",
    "        disabled=False,\n",
    "        button_style='info',\n",
    "        tooltips=[''],\n",
    "        style=style\n",
    "    )\n",
    "\n",
    "    display(dashboard_two.datas)\n",
    "\n",
    "    button = widgets.Button(description='Explore', button_style='success')\n",
    "    display(button)\n",
    "    out = widgets.Output()\n",
    "    display(out)\n",
    "    def on_button_explore(b):\n",
    "        with out:\n",
    "            clear_output()\n",
    "            ds_choice()\n",
    "\n",
    "    button.on_click(on_button_explore)\n"
   ]
  },
  {
   "cell_type": "code",
   "execution_count": null,
   "metadata": {},
   "outputs": [
    {
     "data": {
      "text/markdown": [
       "<h3 id=\"dashboard_two\" class=\"doc_header\"><code>dashboard_two</code><a href=\"__main__.py#L2\" class=\"source_link\" style=\"float:right\">[source]</a></h3>\n",
       "\n",
       "> <code>dashboard_two</code>()\n",
       "\n",
       "GUI for second accordion window"
      ],
      "text/plain": [
       "<IPython.core.display.Markdown object>"
      ]
     },
     "metadata": {},
     "output_type": "display_data"
    }
   ],
   "source": [
    "show_doc(dashboard_two, title_level=3)"
   ]
  },
  {
   "cell_type": "code",
   "execution_count": null,
   "metadata": {},
   "outputs": [],
   "source": [
    "#export\n",
    "def ds_choice():\n",
    "    \"\"\"Helper for current fastai datasets: PETS, CIFAR, IMAGENETTE_160, IMAGEWOOF_160 and MNIST_TINY\"\"\"\n",
    "    if dashboard_two.datas.value == 'PETS':\n",
    "        ds_choice.source = untar_data(URLs.DOGS)\n",
    "    elif dashboard_two.datas.value == 'CIFAR':\n",
    "        ds_choice.source = untar_data(URLs.CIFAR)\n",
    "    elif dashboard_two.datas.value == 'IMAGENETTE_160':\n",
    "        ds_choice.source = untar_data(URLs.IMAGENETTE_160)\n",
    "    elif dashboard_two.datas.value == 'IMAGEWOOF_160':\n",
    "        ds_choice.source = untar_data(URLs.IMAGEWOOF_160)\n",
    "    elif dashboard_two.datas.value == 'MNIST_TINY':\n",
    "        ds_choice.source = untar_data(URLs.MNIST_TINY)\n",
    "\n",
    "    print(BOLD + BLUE + \"Dataset: \" + RESET + BOLD + RED + str(dashboard_two.datas.value))\n",
    "    plt_classes()"
   ]
  },
  {
   "cell_type": "code",
   "execution_count": null,
   "metadata": {},
   "outputs": [],
   "source": [
    "#export\n",
    "def plt_classes():\n",
    "    \"\"\"Helper for plotting classes in folder\"\"\"\n",
    "    disp_img_but = widgets.Button(description='View Images?', button_style='success')\n",
    "    Path.BASE_PATH = ds_choice.source\n",
    "    train_source = (ds_choice.source/'train/').ls().items\n",
    "    print(BOLD + BLUE + \"Folders: \" + RESET + BOLD + RED + str(train_source))\n",
    "    print(BOLD + BLUE + \"\\n\" + \"No of classes: \" + RESET + BOLD + RED + str(len(train_source)))\n",
    "\n",
    "    num_l = []\n",
    "    class_l = []\n",
    "    for j, name in enumerate(train_source):\n",
    "        fol = (ds_choice.source/name).ls().sorted()\n",
    "        names = str(name)\n",
    "        class_split = names.split('train')\n",
    "        class_l.append(class_split[1])\n",
    "        num_l.append(len(fol))\n",
    "\n",
    "    y_pos = np.arange(len(train_source))\n",
    "    performance = num_l\n",
    "\n",
    "    plt.style.use('seaborn')\n",
    "    plt.bar(y_pos, performance, align='center', alpha=0.5, color=['black', 'red', 'green', 'blue', 'cyan'])\n",
    "    plt.xticks(y_pos, class_l, rotation=90)\n",
    "    plt.ylabel('Images')\n",
    "    plt.title('Images per Class')\n",
    "    plt.show()\n",
    "\n",
    "    display(disp_img_but)\n",
    "    out_img = widgets.Output()\n",
    "    display(out_img)\n",
    "    def on_disp_button(b):\n",
    "        with out_img:\n",
    "            clear_output()\n",
    "            display_images()\n",
    "    disp_img_but.on_click(on_disp_button)"
   ]
  },
  {
   "cell_type": "code",
   "execution_count": null,
   "metadata": {},
   "outputs": [],
   "source": [
    "#export\n",
    "def display_images():\n",
    "    \"\"\"Helper for displaying images from folder\"\"\"\n",
    "    train_source = (ds_choice.source/'train/').ls().items\n",
    "    for i, name in enumerate(train_source):\n",
    "        fol = (ds_choice.source/name).ls().sorted()\n",
    "        fol_disp = fol[0:5]\n",
    "        filename = fol_disp.items\n",
    "        fol_tensor = [tensor(Image.open(o)) for o in fol_disp]\n",
    "        print(BOLD + BLUE + \"Loc: \" + RESET + str(name) + \" \" + BOLD + BLUE + \"Number of Images: \" + RESET +\n",
    "              BOLD + RED + str(len(fol)))\n",
    "\n",
    "        fig = plt.figure(figsize=(30,13))\n",
    "        columns = 5\n",
    "        rows = 1\n",
    "        ax = []\n",
    "\n",
    "        for i in range(columns*rows):\n",
    "            for i, j in enumerate(fol_tensor):\n",
    "                img = fol_tensor[i]    # create subplot and append to ax\n",
    "                ax.append( fig.add_subplot(rows, columns, i+1))\n",
    "                ax[-1].set_title(\"ax:\"+str(filename[i]))  # set title\n",
    "                plt.tick_params(bottom=\"on\", left=\"on\")\n",
    "                plt.imshow(img)\n",
    "                plt.xticks([])\n",
    "        plt.show()"
   ]
  },
  {
   "cell_type": "code",
   "execution_count": null,
   "metadata": {},
   "outputs": [
    {
     "name": "stdout",
     "output_type": "stream",
     "text": [
      "Converted 00_core.ipynb.\n",
      "Converted 01_dashboard_one.ipynb.\n",
      "Converted 02_dashboard_two.ipynb.\n",
      "Converted 97_display_test.ipynb.\n",
      "Converted 98_display.ipynb.\n",
      "Converted 99_test.ipynb.\n",
      "Converted index.ipynb.\n"
     ]
    }
   ],
   "source": [
    "#hide\n",
    "from nbdev.export import notebook2script\n",
    "notebook2script()"
   ]
  },
  {
   "cell_type": "code",
   "execution_count": null,
   "metadata": {},
   "outputs": [],
   "source": []
  },
  {
   "cell_type": "code",
   "execution_count": null,
   "metadata": {},
   "outputs": [],
   "source": []
  }
 ],
 "metadata": {
  "kernelspec": {
   "display_name": "Python 3",
   "language": "python",
   "name": "python3"
  }
 },
 "nbformat": 4,
 "nbformat_minor": 2
}
